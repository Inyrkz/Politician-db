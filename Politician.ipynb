{
  "nbformat": 4,
  "nbformat_minor": 0,
  "metadata": {
    "colab": {
      "name": "Politician",
      "provenance": [],
      "include_colab_link": true
    },
    "kernelspec": {
      "name": "python3",
      "display_name": "Python 3"
    }
  },
  "cells": [
    {
      "cell_type": "markdown",
      "metadata": {
        "id": "view-in-github",
        "colab_type": "text"
      },
      "source": [
        "<a href=\"https://colab.research.google.com/github/Inyrkz/Politician-db/blob/master/Politician.ipynb\" target=\"_parent\"><img src=\"https://colab.research.google.com/assets/colab-badge.svg\" alt=\"Open In Colab\"/></a>"
      ]
    },
    {
      "cell_type": "code",
      "metadata": {
        "id": "_dJQRVpjk2ei",
        "colab_type": "code",
        "outputId": "6ac84b85-a400-4050-e522-5e82d29018bc",
        "colab": {
          "base_uri": "https://localhost:8080/",
          "height": 126
        }
      },
      "source": [
        "!git clone https://github.com/Inyrkz/Politician-db.git"
      ],
      "execution_count": 1,
      "outputs": [
        {
          "output_type": "stream",
          "text": [
            "Cloning into 'Politician-db'...\n",
            "remote: Enumerating objects: 21, done.\u001b[K\n",
            "remote: Counting objects:   4% (1/21)\u001b[K\rremote: Counting objects:   9% (2/21)\u001b[K\rremote: Counting objects:  14% (3/21)\u001b[K\rremote: Counting objects:  19% (4/21)\u001b[K\rremote: Counting objects:  23% (5/21)\u001b[K\rremote: Counting objects:  28% (6/21)\u001b[K\rremote: Counting objects:  33% (7/21)\u001b[K\rremote: Counting objects:  38% (8/21)\u001b[K\rremote: Counting objects:  42% (9/21)\u001b[K\rremote: Counting objects:  47% (10/21)\u001b[K\rremote: Counting objects:  52% (11/21)\u001b[K\rremote: Counting objects:  57% (12/21)\u001b[K\rremote: Counting objects:  61% (13/21)\u001b[K\rremote: Counting objects:  66% (14/21)\u001b[K\rremote: Counting objects:  71% (15/21)\u001b[K\rremote: Counting objects:  76% (16/21)\u001b[K\rremote: Counting objects:  80% (17/21)\u001b[K\rremote: Counting objects:  85% (18/21)\u001b[K\rremote: Counting objects:  90% (19/21)\u001b[K\rremote: Counting objects:  95% (20/21)\u001b[K\rremote: Counting objects: 100% (21/21)\u001b[K\rremote: Counting objects: 100% (21/21), done.\u001b[K\n",
            "remote: Compressing objects:   5% (1/19)\u001b[K\rremote: Compressing objects:  10% (2/19)\u001b[K\rremote: Compressing objects:  15% (3/19)\u001b[K\rremote: Compressing objects:  21% (4/19)\u001b[K\rremote: Compressing objects:  26% (5/19)\u001b[K\rremote: Compressing objects:  31% (6/19)\u001b[K\rremote: Compressing objects:  36% (7/19)\u001b[K\rremote: Compressing objects:  42% (8/19)\u001b[K\rremote: Compressing objects:  47% (9/19)\u001b[K\rremote: Compressing objects:  52% (10/19)\u001b[K\rremote: Compressing objects:  57% (11/19)\u001b[K\rremote: Compressing objects:  63% (12/19)\u001b[K\rremote: Compressing objects:  68% (13/19)\u001b[K\rremote: Compressing objects:  73% (14/19)\u001b[K\rremote: Compressing objects:  78% (15/19)\u001b[K\rremote: Compressing objects:  84% (16/19)\u001b[K\rremote: Compressing objects:  89% (17/19)\u001b[K\rremote: Compressing objects:  94% (18/19)\u001b[K\rremote: Compressing objects: 100% (19/19)\u001b[K\rremote: Compressing objects: 100% (19/19), done.\u001b[K\n",
            "remote: Total 21 (delta 5), reused 0 (delta 0), pack-reused 0\u001b[K\n",
            "Unpacking objects:   4% (1/21)   \rUnpacking objects:   9% (2/21)   \rUnpacking objects:  14% (3/21)   \rUnpacking objects:  19% (4/21)   \rUnpacking objects:  23% (5/21)   \rUnpacking objects:  28% (6/21)   \rUnpacking objects:  33% (7/21)   \rUnpacking objects:  38% (8/21)   \rUnpacking objects:  42% (9/21)   \rUnpacking objects:  47% (10/21)   \rUnpacking objects:  52% (11/21)   \rUnpacking objects:  57% (12/21)   \rUnpacking objects:  61% (13/21)   \rUnpacking objects:  66% (14/21)   \rUnpacking objects:  71% (15/21)   \rUnpacking objects:  76% (16/21)   \rUnpacking objects:  80% (17/21)   \rUnpacking objects:  85% (18/21)   \rUnpacking objects:  90% (19/21)   \rUnpacking objects:  95% (20/21)   \rUnpacking objects: 100% (21/21)   \rUnpacking objects: 100% (21/21), done.\n"
          ],
          "name": "stdout"
        }
      ]
    },
    {
      "cell_type": "code",
      "metadata": {
        "id": "0aqRwY_OlMmf",
        "colab_type": "code",
        "outputId": "5e8acdf5-62ca-46c0-e1fb-80ea453f14dc",
        "colab": {
          "base_uri": "https://localhost:8080/",
          "height": 213
        }
      },
      "source": [
        "import pandas as pd\n",
        "METADATA = pd.read_csv('/content/Politician-db/Politician DS.csv', encoding = 'latin-1')\n",
        "METADATA.head(3)"
      ],
      "execution_count": 3,
      "outputs": [
        {
          "output_type": "execute_result",
          "data": {
            "text/html": [
              "<div>\n",
              "<style scoped>\n",
              "    .dataframe tbody tr th:only-of-type {\n",
              "        vertical-align: middle;\n",
              "    }\n",
              "\n",
              "    .dataframe tbody tr th {\n",
              "        vertical-align: top;\n",
              "    }\n",
              "\n",
              "    .dataframe thead th {\n",
              "        text-align: right;\n",
              "    }\n",
              "</style>\n",
              "<table border=\"1\" class=\"dataframe\">\n",
              "  <thead>\n",
              "    <tr style=\"text-align: right;\">\n",
              "      <th></th>\n",
              "      <th>S/N</th>\n",
              "      <th>Name</th>\n",
              "      <th>Position</th>\n",
              "      <th>Political Party</th>\n",
              "      <th>Elected</th>\n",
              "      <th>Posts</th>\n",
              "    </tr>\n",
              "  </thead>\n",
              "  <tbody>\n",
              "    <tr>\n",
              "      <th>0</th>\n",
              "      <td>1</td>\n",
              "      <td>Okezie Ikpeazu</td>\n",
              "      <td>Current Governor of Abia State</td>\n",
              "      <td>PDP</td>\n",
              "      <td>2019.0</td>\n",
              "      <td>NaN</td>\n",
              "    </tr>\n",
              "    <tr>\n",
              "      <th>1</th>\n",
              "      <td>2</td>\n",
              "      <td>Ahmadu Umaru Fintiri</td>\n",
              "      <td>Current Governor of Adamawa State</td>\n",
              "      <td>PDP</td>\n",
              "      <td>2019.0</td>\n",
              "      <td>NaN</td>\n",
              "    </tr>\n",
              "    <tr>\n",
              "      <th>2</th>\n",
              "      <td>3</td>\n",
              "      <td>Udom Gabriel Emmanuel</td>\n",
              "      <td>Current Governor of Akwa-Ibom State</td>\n",
              "      <td>PDP</td>\n",
              "      <td>2019.0</td>\n",
              "      <td>NaN</td>\n",
              "    </tr>\n",
              "  </tbody>\n",
              "</table>\n",
              "</div>"
            ],
            "text/plain": [
              "   S/N                   Name  ... Elected Posts\n",
              "0    1         Okezie Ikpeazu  ...  2019.0   NaN\n",
              "1    2   Ahmadu Umaru Fintiri  ...  2019.0   NaN\n",
              "2    3  Udom Gabriel Emmanuel  ...  2019.0   NaN\n",
              "\n",
              "[3 rows x 6 columns]"
            ]
          },
          "metadata": {
            "tags": []
          },
          "execution_count": 3
        }
      ]
    },
    {
      "cell_type": "code",
      "metadata": {
        "id": "1iuQt4nZf6HQ",
        "colab_type": "code",
        "outputId": "ca558d7b-b252-4c08-f3ee-3f537ae05e44",
        "colab": {
          "base_uri": "https://localhost:8080/",
          "height": 126
        }
      },
      "source": [
        "#Removing NaN values\n",
        "METADATA = METADATA.fillna('')\n",
        "\n",
        "#Convert the post elected column to string\n",
        "METADATA[\"Elected\"] = METADATA[\"Elected\"].astype(str)\n",
        "METADATA[\"Posts\"] =  METADATA[\"Posts\"].astype(str)\n",
        "#Joining the other columns into one \n",
        "METADATA[\"General\"] = METADATA[\"Position\"] + \" \" + METADATA[\"Political Party\"] + \" \" +  METADATA[\"Elected\"]+ \" \" +  METADATA[\"Posts\"]\n",
        "METADATA[\"General\"].head()"
      ],
      "execution_count": 8,
      "outputs": [
        {
          "output_type": "execute_result",
          "data": {
            "text/plain": [
              "0         Current Governor of Abia State PDP 2019.0 \n",
              "1      Current Governor of Adamawa State PDP 2019.0 \n",
              "2    Current Governor of Akwa-Ibom State PDP 2019.0 \n",
              "3     Current Governor of Anambra State APGA 2014.0 \n",
              "4          Deputy Governor of Abia State PDP 2019.0 \n",
              "Name: General, dtype: object"
            ]
          },
          "metadata": {
            "tags": []
          },
          "execution_count": 8
        }
      ]
    },
    {
      "cell_type": "code",
      "metadata": {
        "id": "B4FfAdszkCEl",
        "colab_type": "code",
        "outputId": "a72de5ef-488d-4c2d-a9d1-387512c5d2a5",
        "colab": {
          "base_uri": "https://localhost:8080/",
          "height": 35
        }
      },
      "source": [
        "#Importing Libraries\n",
        "from sklearn.feature_extraction.text import TfidfVectorizer\n",
        "\n",
        "#Define a TF-IDF Vectorizer object. Remove all english stopwords\n",
        "TFIDF = TfidfVectorizer(stop_words = 'english')\n",
        "\n",
        "#Construct the required TF-IDF matrix by fitting and transforming the data\n",
        "TFIDF_MATRIX = TFIDF.fit_transform(METADATA[\"General\"])\n",
        "\n",
        "#Let's see the output shape of the matrix\n",
        "TFIDF_MATRIX.shape"
      ],
      "execution_count": 9,
      "outputs": [
        {
          "output_type": "execute_result",
          "data": {
            "text/plain": [
              "(110, 456)"
            ]
          },
          "metadata": {
            "tags": []
          },
          "execution_count": 9
        }
      ]
    },
    {
      "cell_type": "code",
      "metadata": {
        "id": "LmTlDzEcsUkV",
        "colab_type": "code",
        "colab": {}
      },
      "source": [
        "#Importing liinear_kernel\n",
        "from sklearn.metrics.pairwise import linear_kernel\n",
        "\n",
        "#computing the cosine similarity matrix\n",
        "COSINE_SIM = linear_kernel(TFIDF_MATRIX, TFIDF_MATRIX)\n",
        "\n",
        "#Construct a reverse map of the indices and name\n",
        "indices = pd.Series(METADATA.index, index = METADATA['Name']).drop_duplicates()"
      ],
      "execution_count": 0,
      "outputs": []
    },
    {
      "cell_type": "code",
      "metadata": {
        "id": "72232g92s5ie",
        "colab_type": "code",
        "colab": {}
      },
      "source": [
        "\n",
        "def get_recommendations(name, COSINE_SIM = COSINE_SIM):\n",
        "  '''Function that takes in a politician's name as input and output similar politicians'''\n",
        "\n",
        "  #Get the index of the name\n",
        "  idx = indices[name]\n",
        "\n",
        "  #Get the pairwise similarity score of all names with that name\n",
        "  sim_scores = list(enumerate(COSINE_SIM[idx]))\n",
        "\n",
        "  #sort the names based on similarity scores\n",
        "  sim_scores = sorted(sim_scores, key = lambda x: x[1], reverse = True)\n",
        "\n",
        "  #Get the scores of the 10 most similar politicians\n",
        "  sim_scores = sim_scores[1:11]\n",
        "\n",
        "  #Get the names\n",
        "  names = [i[0] for i in sim_scores] \n",
        "\n",
        "  #Return the top 10 similar politicians\n",
        "  return METADATA['Name'].iloc[names]"
      ],
      "execution_count": 0,
      "outputs": []
    },
    {
      "cell_type": "code",
      "metadata": {
        "id": "hglDHlbVvpzq",
        "colab_type": "code",
        "outputId": "2feef5c5-52ce-4692-8419-559811922a0f",
        "colab": {
          "base_uri": "https://localhost:8080/",
          "height": 235
        }
      },
      "source": [
        "PNAME = input(\"Search Politician's name: \")\n",
        "get_recommendations(PNAME)"
      ],
      "execution_count": 12,
      "outputs": [
        {
          "output_type": "stream",
          "text": [
            "Search Politician's name: Michael Akhigbe\n"
          ],
          "name": "stdout"
        },
        {
          "output_type": "execute_result",
          "data": {
            "text/plain": [
              "81        Muhammadu Buhari\n",
              "84       Olusegun Obasanjo\n",
              "83     Umaru Musa Yar'Adua\n",
              "98            Namadi Sambo\n",
              "82       Goodluck Jonathan\n",
              "99          Atiku Abubakar\n",
              "79        Akinwunmi Ambode\n",
              "50     Abubakar Sani Bello\n",
              "51    Ahmed Muhammad Ketso\n",
              "46      Babajide Sanwo-Olu\n",
              "Name: Name, dtype: object"
            ]
          },
          "metadata": {
            "tags": []
          },
          "execution_count": 12
        }
      ]
    }
  ]
}