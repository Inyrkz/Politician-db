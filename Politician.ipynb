{
  "nbformat": 4,
  "nbformat_minor": 0,
  "metadata": {
    "colab": {
      "name": "Politician",
      "provenance": [],
      "include_colab_link": true
    },
    "kernelspec": {
      "name": "python3",
      "display_name": "Python 3"
    }
  },
  "cells": [
    {
      "cell_type": "markdown",
      "metadata": {
        "id": "view-in-github",
        "colab_type": "text"
      },
      "source": [
        "<a href=\"https://colab.research.google.com/github/Inyrkz/Politician-db/blob/master/Politician.ipynb\" target=\"_parent\"><img src=\"https://colab.research.google.com/assets/colab-badge.svg\" alt=\"Open In Colab\"/></a>"
      ]
    },
    {
      "cell_type": "code",
      "metadata": {
        "id": "_dJQRVpjk2ei",
        "colab_type": "code",
        "outputId": "d0ecda4d-87c9-48a8-c1a9-5e1c4daf1890",
        "colab": {
          "base_uri": "https://localhost:8080/",
          "height": 126
        }
      },
      "source": [
        "!git clone https://github.com/Inyrkz/Politician-db.git"
      ],
      "execution_count": 1,
      "outputs": [
        {
          "output_type": "stream",
          "text": [
            "Cloning into 'Politician-db'...\n",
            "remote: Enumerating objects: 6, done.\u001b[K\n",
            "remote: Counting objects: 100% (6/6), done.\u001b[K\n",
            "remote: Compressing objects: 100% (6/6), done.\u001b[K\n",
            "remote: Total 84 (delta 1), reused 0 (delta 0), pack-reused 78\u001b[K\n",
            "Unpacking objects: 100% (84/84), done.\n"
          ],
          "name": "stdout"
        }
      ]
    },
    {
      "cell_type": "code",
      "metadata": {
        "id": "0aqRwY_OlMmf",
        "colab_type": "code",
        "outputId": "ccc3095a-91a9-4155-b598-f816d89aa6b7",
        "colab": {
          "base_uri": "https://localhost:8080/",
          "height": 265
        }
      },
      "source": [
        "import pandas as pd\n",
        "import string\n",
        "METADATA = pd.read_csv('/content/Politician-db/Politician DS.csv', encoding = 'latin-1')\n",
        "METADATA.head(3)"
      ],
      "execution_count": 52,
      "outputs": [
        {
          "output_type": "execute_result",
          "data": {
            "text/html": [
              "<div>\n",
              "<style scoped>\n",
              "    .dataframe tbody tr th:only-of-type {\n",
              "        vertical-align: middle;\n",
              "    }\n",
              "\n",
              "    .dataframe tbody tr th {\n",
              "        vertical-align: top;\n",
              "    }\n",
              "\n",
              "    .dataframe thead th {\n",
              "        text-align: right;\n",
              "    }\n",
              "</style>\n",
              "<table border=\"1\" class=\"dataframe\">\n",
              "  <thead>\n",
              "    <tr style=\"text-align: right;\">\n",
              "      <th></th>\n",
              "      <th>S/N</th>\n",
              "      <th>Name</th>\n",
              "      <th>Position</th>\n",
              "      <th>Political Party</th>\n",
              "      <th>Elected</th>\n",
              "      <th>Posts</th>\n",
              "    </tr>\n",
              "  </thead>\n",
              "  <tbody>\n",
              "    <tr>\n",
              "      <th>0</th>\n",
              "      <td>1</td>\n",
              "      <td>Okezie Ikpeazu</td>\n",
              "      <td>Current Governor of Abia State</td>\n",
              "      <td>PDP</td>\n",
              "      <td>2019</td>\n",
              "      <td>Okezie was born on October 18, 1964, to the fa...</td>\n",
              "    </tr>\n",
              "    <tr>\n",
              "      <th>1</th>\n",
              "      <td>2</td>\n",
              "      <td>Ahmadu Umaru Fintiri</td>\n",
              "      <td>Current Governor of Adamawa State</td>\n",
              "      <td>PDP</td>\n",
              "      <td>2019</td>\n",
              "      <td>Ahmadu Umaru Fintiri is the current governor o...</td>\n",
              "    </tr>\n",
              "    <tr>\n",
              "      <th>2</th>\n",
              "      <td>3</td>\n",
              "      <td>Udom Gabriel Emmanuel</td>\n",
              "      <td>Current Governor of Akwa-Ibom State</td>\n",
              "      <td>PDP</td>\n",
              "      <td>2019</td>\n",
              "      <td>Udom Gabriel Emmanuel was born on July 11, 196...</td>\n",
              "    </tr>\n",
              "  </tbody>\n",
              "</table>\n",
              "</div>"
            ],
            "text/plain": [
              "   S/N  ...                                              Posts\n",
              "0    1  ...  Okezie was born on October 18, 1964, to the fa...\n",
              "1    2  ...  Ahmadu Umaru Fintiri is the current governor o...\n",
              "2    3  ...  Udom Gabriel Emmanuel was born on July 11, 196...\n",
              "\n",
              "[3 rows x 6 columns]"
            ]
          },
          "metadata": {
            "tags": []
          },
          "execution_count": 52
        }
      ]
    },
    {
      "cell_type": "code",
      "metadata": {
        "id": "1iuQt4nZf6HQ",
        "colab_type": "code",
        "outputId": "733bb77c-0574-416f-989a-5c9007757343",
        "colab": {
          "base_uri": "https://localhost:8080/",
          "height": 126
        }
      },
      "source": [
        "#Removing NaN values\n",
        "METADATA = METADATA.fillna('')\n",
        "\n",
        "#Convert the post elected column to string\n",
        "METADATA[\"Elected\"] = METADATA[\"Elected\"].astype(int).astype(str)\n",
        "# METADATA[\"Posts\"] =  METADATA[\"Posts\"].astype(str)\n",
        "#Joining the other columns into one \n",
        "METADATA[\"General\"] = METADATA[\"Position\"] + \" \" + METADATA[\"Political Party\"] + \" \" +  METADATA[\"Elected\"]+ \" \" +  METADATA[\"Posts\"]\n",
        "METADATA[\"General\"].head()"
      ],
      "execution_count": 60,
      "outputs": [
        {
          "output_type": "execute_result",
          "data": {
            "text/plain": [
              "0    Current Governor of Abia State PDP 2019 Okezie...\n",
              "1    Current Governor of Adamawa State PDP 2019 Ahm...\n",
              "2    Current Governor of Akwa-Ibom State PDP 2019 U...\n",
              "3    Current Governor of Anambra State APGA 2014 Ch...\n",
              "4    Deputy Governor of Abia State PDP 2019 Rt. Hon...\n",
              "Name: General, dtype: object"
            ]
          },
          "metadata": {
            "tags": []
          },
          "execution_count": 60
        }
      ]
    },
    {
      "cell_type": "code",
      "metadata": {
        "id": "B4FfAdszkCEl",
        "colab_type": "code",
        "outputId": "f1264e01-6fef-4511-e9ef-19296bcd49ae",
        "colab": {
          "base_uri": "https://localhost:8080/",
          "height": 945
        }
      },
      "source": [
        "#Importing Libraries\n",
        "from sklearn.feature_extraction.text import TfidfVectorizer\n",
        "\n",
        "#Define a TF-IDF Vectorizer object. Remove all english stopwords\n",
        "TFIDF = TfidfVectorizer(stop_words = 'english')\n",
        "\n",
        "#Construct the required TF-IDF matrix by fitting and transforming the data\n",
        "TFIDF_MATRIX = TFIDF.fit_transform(METADATA[\"General\"])\n",
        "\n",
        "#Let's see the output shape of the matrix\n",
        "TFIDF_MATRIX.shape\n",
        "print(TFIDF_MATRIX)"
      ],
      "execution_count": 61,
      "outputs": [
        {
          "output_type": "stream",
          "text": [
            "  (0, 2343)\t0.06524287832158368\n",
            "  (0, 870)\t0.06524287832158368\n",
            "  (0, 1730)\t0.034136650888568\n",
            "  (0, 2212)\t0.09069102508048156\n",
            "  (0, 1889)\t0.05312131337204646\n",
            "  (0, 781)\t0.059879000382262494\n",
            "  (0, 2163)\t0.06524287832158368\n",
            "  (0, 1829)\t0.05070939047956196\n",
            "  (0, 794)\t0.06524287832158368\n",
            "  (0, 997)\t0.06524287832158368\n",
            "  (0, 1209)\t0.05312131337204646\n",
            "  (0, 952)\t0.059879000382262494\n",
            "  (0, 306)\t0.06524287832158368\n",
            "  (0, 1633)\t0.04395170346934593\n",
            "  (0, 2304)\t0.06524287832158368\n",
            "  (0, 1678)\t0.06524287832158368\n",
            "  (0, 215)\t0.05070939047956196\n",
            "  (0, 966)\t0.0771756510600495\n",
            "  (0, 199)\t0.06524287832158368\n",
            "  (0, 1652)\t0.059879000382262494\n",
            "  (0, 1298)\t0.05070939047956196\n",
            "  (0, 100)\t0.04395170346934593\n",
            "  (0, 1295)\t0.048670138730589715\n",
            "  (0, 115)\t0.05312131337204646\n",
            "  (0, 113)\t0.05312131337204646\n",
            "  :\t:\n",
            "  (100, 1947)\t0.07405752094533476\n",
            "  (100, 214)\t0.08083052319761397\n",
            "  (100, 120)\t0.06010484698258344\n",
            "  (100, 2312)\t0.19487792219775113\n",
            "  (100, 1814)\t0.11483386603904874\n",
            "  (100, 1076)\t0.08532228094502702\n",
            "  (100, 97)\t0.1481150418906695\n",
            "  (100, 69)\t0.06687784923486265\n",
            "  (100, 1337)\t0.0561965925117025\n",
            "  (100, 1040)\t0.19487792219775113\n",
            "  (100, 1634)\t0.1379973976780621\n",
            "  (100, 576)\t0.22217256283600426\n",
            "  (100, 118)\t0.07716048989202903\n",
            "  (100, 257)\t0.09111316385478035\n",
            "  (100, 350)\t0.05741693301952437\n",
            "  (100, 966)\t0.05871605818186468\n",
            "  (100, 1577)\t0.12853452715050326\n",
            "  (100, 1542)\t0.05194305592958546\n",
            "  (100, 2062)\t0.10201326687299812\n",
            "  (100, 66)\t0.08532228094502702\n",
            "  (100, 1576)\t0.20830207636209544\n",
            "  (100, 1065)\t0.10388611185917092\n",
            "  (100, 1628)\t0.12020969396516688\n",
            "  (100, 2125)\t0.04712810389970238\n",
            "  (100, 1068)\t0.04759897367757366\n"
          ],
          "name": "stdout"
        }
      ]
    },
    {
      "cell_type": "code",
      "metadata": {
        "id": "LmTlDzEcsUkV",
        "colab_type": "code",
        "colab": {
          "base_uri": "https://localhost:8080/",
          "height": 164
        },
        "outputId": "1ef268b5-078c-45c1-b97c-6f3f7010a9bc"
      },
      "source": [
        "#Importing liinear_kernel\n",
        "from sklearn.metrics.pairwise import linear_kernel\n",
        "\n",
        "#computing the cosine similarity matrix\n",
        "COSINE_SIM = linear_kernel(TFIDF_MATRIX, TFIDF_MATRIX)\n",
        "print(COSINE_SIM)\n",
        "#Construct a reverse map of the indices and name\n",
        "indices = pd.Series(METADATA.index, index = METADATA['Name']).drop_duplicates()"
      ],
      "execution_count": 62,
      "outputs": [
        {
          "output_type": "stream",
          "text": [
            "[[1.         0.0758485  0.06626482 ... 0.13026969 0.07103056 0.03802277]\n",
            " [0.0758485  1.         0.08620109 ... 0.04366637 0.08264922 0.03223337]\n",
            " [0.06626482 0.08620109 1.         ... 0.07271414 0.0681688  0.06680664]\n",
            " ...\n",
            " [0.13026969 0.04366637 0.07271414 ... 1.         0.10376198 0.11090664]\n",
            " [0.07103056 0.08264922 0.0681688  ... 0.10376198 1.         0.11277637]\n",
            " [0.03802277 0.03223337 0.06680664 ... 0.11090664 0.11277637 1.        ]]\n"
          ],
          "name": "stdout"
        }
      ]
    },
    {
      "cell_type": "code",
      "metadata": {
        "id": "72232g92s5ie",
        "colab_type": "code",
        "colab": {}
      },
      "source": [
        "\n",
        "def get_recommendations(name, COSINE_SIM = COSINE_SIM):\n",
        "  '''Function that takes in a politician's name as input and output similar politicians'''\n",
        "\n",
        "  #check if name is in database first\n",
        "  if METADATA['Name'].isin([name]).any() == True:\n",
        "      #Get the index of the name\n",
        "      idx = indices[name]\n",
        "\n",
        "      #Get the pairwise similarity score of all names with that name\n",
        "      sim_scores = list(enumerate(COSINE_SIM[idx]))\n",
        "\n",
        "      #sort the names based on similarity scores\n",
        "      sim_scores = sorted(sim_scores, key = lambda x: x[1], reverse = True)\n",
        "\n",
        "      #Get the scores of the 10 most similar politicians\n",
        "      sim_scores = sim_scores[1:11]\n",
        "\n",
        "      #Get the names\n",
        "      names = [i[0] for i in sim_scores] \n",
        "      \n",
        "      #Return the top 10 similar politicians\n",
        "      recommendation = list(METADATA['Name'].iloc[names].values[:])\n",
        "      # return recommendation \n",
        "      \n",
        "      #view the simscore of each prediction\n",
        "      score = [i[1] for i in sim_scores] #get a list of just the sim score in the list of tuples of index and sim score\n",
        "      result = pd.Series(score, index=recommendation)\n",
        "      return result #returns a series of the recommendations as index and the sim score as data\n",
        "            \n",
        "  else:\n",
        "      return  \"Name not found in database\"\n",
        "      #if name is not in dataset, return the above"
      ],
      "execution_count": 0,
      "outputs": []
    },
    {
      "cell_type": "code",
      "metadata": {
        "id": "hglDHlbVvpzq",
        "colab_type": "code",
        "outputId": "d5160354-d77d-4f91-e24a-87d784c8abf0",
        "colab": {
          "base_uri": "https://localhost:8080/",
          "height": 235
        }
      },
      "source": [
        "PNAME = input(\"Search Politician's name: \")\n",
        "get_recommendations(PNAME)"
      ],
      "execution_count": 66,
      "outputs": [
        {
          "output_type": "stream",
          "text": [
            "Search Politician's name: Udom Gabriel Emmanuel\n"
          ],
          "name": "stdout"
        },
        {
          "output_type": "execute_result",
          "data": {
            "text/plain": [
              "Godswill Akpabio         0.426678\n",
              "Victor Attah             0.410632\n",
              "Moses Ekpo               0.373507\n",
              "Samuel Ortom             0.152975\n",
              "Baba Tela                0.142792\n",
              "Willie Obiano            0.125861\n",
              "Muhammad Inuwa Yahaya    0.117775\n",
              "Chukwuemeka Ihedioha     0.111688\n",
              "Benson Abounu            0.111449\n",
              "Ifeanyi Okowa            0.109614\n",
              "dtype: float64"
            ]
          },
          "metadata": {
            "tags": []
          },
          "execution_count": 66
        }
      ]
    }
  ]
}