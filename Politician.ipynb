{
  "nbformat": 4,
  "nbformat_minor": 0,
  "metadata": {
    "colab": {
      "name": "Politician",
      "provenance": [],
      "include_colab_link": true
    },
    "kernelspec": {
      "name": "python3",
      "display_name": "Python 3"
    }
  },
  "cells": [
    {
      "cell_type": "markdown",
      "metadata": {
        "id": "view-in-github",
        "colab_type": "text"
      },
      "source": [
        "<a href=\"https://colab.research.google.com/github/Inyrkz/Politician-db/blob/master/Politician.ipynb\" target=\"_parent\"><img src=\"https://colab.research.google.com/assets/colab-badge.svg\" alt=\"Open In Colab\"/></a>"
      ]
    },
    {
      "cell_type": "code",
      "metadata": {
        "id": "_dJQRVpjk2ei",
        "colab_type": "code",
        "outputId": "567faa8f-ddd9-4d0b-a321-81f405843186",
        "colab": {
          "base_uri": "https://localhost:8080/",
          "height": 126
        }
      },
      "source": [
        "!git clone https://github.com/Inyrkz/Politician-db.git"
      ],
      "execution_count": 1,
      "outputs": [
        {
          "output_type": "stream",
          "text": [
            "Cloning into 'Politician-db'...\n",
            "remote: Enumerating objects: 3, done.\u001b[K\n",
            "remote: Counting objects: 100% (3/3), done.\u001b[K\n",
            "remote: Compressing objects: 100% (2/2), done.\u001b[K\n",
            "remote: Total 3 (delta 0), reused 0 (delta 0), pack-reused 0\u001b[K\n",
            "Unpacking objects: 100% (3/3), done.\n"
          ],
          "name": "stdout"
        }
      ]
    },
    {
      "cell_type": "code",
      "metadata": {
        "id": "0aqRwY_OlMmf",
        "colab_type": "code",
        "colab": {
          "base_uri": "https://localhost:8080/",
          "height": 143
        },
        "outputId": "ba346cd1-5343-4d80-fc7e-24091d5c14aa"
      },
      "source": [
        "import pandas as pd\n",
        "METADATA = pd.read_csv('/content/Politician-db/Politician DS.csv')\n",
        "METADATA.head(3)"
      ],
      "execution_count": 3,
      "outputs": [
        {
          "output_type": "execute_result",
          "data": {
            "text/html": [
              "<div>\n",
              "<style scoped>\n",
              "    .dataframe tbody tr th:only-of-type {\n",
              "        vertical-align: middle;\n",
              "    }\n",
              "\n",
              "    .dataframe tbody tr th {\n",
              "        vertical-align: top;\n",
              "    }\n",
              "\n",
              "    .dataframe thead th {\n",
              "        text-align: right;\n",
              "    }\n",
              "</style>\n",
              "<table border=\"1\" class=\"dataframe\">\n",
              "  <thead>\n",
              "    <tr style=\"text-align: right;\">\n",
              "      <th></th>\n",
              "      <th>S/N</th>\n",
              "      <th>Name</th>\n",
              "      <th>Position</th>\n",
              "      <th>Political Party</th>\n",
              "      <th>Elected</th>\n",
              "    </tr>\n",
              "  </thead>\n",
              "  <tbody>\n",
              "    <tr>\n",
              "      <th>0</th>\n",
              "      <td>1</td>\n",
              "      <td>Okezie Ikpeazu</td>\n",
              "      <td>Current Governor of Abia State</td>\n",
              "      <td>PDP</td>\n",
              "      <td>2019.0</td>\n",
              "    </tr>\n",
              "    <tr>\n",
              "      <th>1</th>\n",
              "      <td>2</td>\n",
              "      <td>Ahmadu Umaru Fintiri</td>\n",
              "      <td>Current Governor of Adamawa State</td>\n",
              "      <td>PDP</td>\n",
              "      <td>2019.0</td>\n",
              "    </tr>\n",
              "    <tr>\n",
              "      <th>2</th>\n",
              "      <td>3</td>\n",
              "      <td>Udom Gabriel Emmanuel</td>\n",
              "      <td>Current Governor of Akwa-Ibom State</td>\n",
              "      <td>PDP</td>\n",
              "      <td>2019.0</td>\n",
              "    </tr>\n",
              "  </tbody>\n",
              "</table>\n",
              "</div>"
            ],
            "text/plain": [
              "   S/N                   Name  ... Political Party Elected\n",
              "0    1         Okezie Ikpeazu  ...             PDP  2019.0\n",
              "1    2   Ahmadu Umaru Fintiri  ...             PDP  2019.0\n",
              "2    3  Udom Gabriel Emmanuel  ...             PDP  2019.0\n",
              "\n",
              "[3 rows x 5 columns]"
            ]
          },
          "metadata": {
            "tags": []
          },
          "execution_count": 3
        }
      ]
    },
    {
      "cell_type": "code",
      "metadata": {
        "id": "1iuQt4nZf6HQ",
        "colab_type": "code",
        "colab": {
          "base_uri": "https://localhost:8080/",
          "height": 126
        },
        "outputId": "dbb12b3d-ddd1-4290-b3d2-7ccabe78b09c"
      },
      "source": [
        "#Joining the other columns into one \n",
        "METADATA[\"General\"] = METADATA[\"Position\"] + \" \" + METADATA[\"Political Party\"] \n",
        "# + \" \" +  METADATA[\"Elected\"]\n",
        "METADATA[\"General\"].head()"
      ],
      "execution_count": 5,
      "outputs": [
        {
          "output_type": "execute_result",
          "data": {
            "text/plain": [
              "0         Current Governor of Abia State PDP\n",
              "1      Current Governor of Adamawa State PDP\n",
              "2    Current Governor of Akwa-Ibom State PDP\n",
              "3     Current Governor of Anambra State APGA\n",
              "4          Deputy Governor of Abia State PDP\n",
              "Name: General, dtype: object"
            ]
          },
          "metadata": {
            "tags": []
          },
          "execution_count": 5
        }
      ]
    },
    {
      "cell_type": "code",
      "metadata": {
        "id": "B4FfAdszkCEl",
        "colab_type": "code",
        "colab": {}
      },
      "source": [
        "#Importing Libraries\n",
        "from sklearn.feature_extraction.text import TfidfVectorizer\n",
        "\n",
        "#Define a TF-IDF Vectorizer object. Remove all english stopwords\n",
        "TFIDF = TfidVectorizer(stop_words = 'english')\n",
        "\n"
      ],
      "execution_count": 0,
      "outputs": []
    }
  ]
}