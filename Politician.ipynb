{
  "nbformat": 4,
  "nbformat_minor": 0,
  "metadata": {
    "colab": {
      "name": "Politician",
      "provenance": [],
      "include_colab_link": true
    },
    "kernelspec": {
      "name": "python3",
      "display_name": "Python 3"
    }
  },
  "cells": [
    {
      "cell_type": "markdown",
      "metadata": {
        "id": "view-in-github",
        "colab_type": "text"
      },
      "source": [
        "<a href=\"https://colab.research.google.com/github/Inyrkz/Politician-db/blob/master/Politician.ipynb\" target=\"_parent\"><img src=\"https://colab.research.google.com/assets/colab-badge.svg\" alt=\"Open In Colab\"/></a>"
      ]
    },
    {
      "cell_type": "code",
      "metadata": {
        "id": "_dJQRVpjk2ei",
        "colab_type": "code",
        "outputId": "227caf36-55ad-4d02-e7b4-3e593d45851b",
        "colab": {
          "base_uri": "https://localhost:8080/",
          "height": 126
        }
      },
      "source": [
        "!git clone https://github.com/Inyrkz/Politician-db.git"
      ],
      "execution_count": 22,
      "outputs": [
        {
          "output_type": "stream",
          "text": [
            "Cloning into 'Politician-db'...\n",
            "remote: Enumerating objects: 12, done.\u001b[K\n",
            "remote: Counting objects: 100% (12/12), done.\u001b[K\n",
            "remote: Compressing objects: 100% (10/10), done.\u001b[K\n",
            "remote: Total 12 (delta 2), reused 0 (delta 0), pack-reused 0\u001b[K\n",
            "Unpacking objects: 100% (12/12), done.\n"
          ],
          "name": "stdout"
        }
      ]
    },
    {
      "cell_type": "code",
      "metadata": {
        "id": "0aqRwY_OlMmf",
        "colab_type": "code",
        "colab": {
          "base_uri": "https://localhost:8080/",
          "height": 213
        },
        "outputId": "05391247-f998-4150-f0f7-a96fd3100be1"
      },
      "source": [
        "import pandas as pd\n",
        "METADATA = pd.read_csv('/content/Politician-db/Politician DS.csv')\n",
        "METADATA.head(3)"
      ],
      "execution_count": 23,
      "outputs": [
        {
          "output_type": "execute_result",
          "data": {
            "text/html": [
              "<div>\n",
              "<style scoped>\n",
              "    .dataframe tbody tr th:only-of-type {\n",
              "        vertical-align: middle;\n",
              "    }\n",
              "\n",
              "    .dataframe tbody tr th {\n",
              "        vertical-align: top;\n",
              "    }\n",
              "\n",
              "    .dataframe thead th {\n",
              "        text-align: right;\n",
              "    }\n",
              "</style>\n",
              "<table border=\"1\" class=\"dataframe\">\n",
              "  <thead>\n",
              "    <tr style=\"text-align: right;\">\n",
              "      <th></th>\n",
              "      <th>S/N</th>\n",
              "      <th>Name</th>\n",
              "      <th>Position</th>\n",
              "      <th>Political Party</th>\n",
              "      <th>Elected</th>\n",
              "      <th>Posts</th>\n",
              "    </tr>\n",
              "  </thead>\n",
              "  <tbody>\n",
              "    <tr>\n",
              "      <th>0</th>\n",
              "      <td>1</td>\n",
              "      <td>Okezie Ikpeazu</td>\n",
              "      <td>Current Governor of Abia State</td>\n",
              "      <td>PDP</td>\n",
              "      <td>2019</td>\n",
              "      <td>NaN</td>\n",
              "    </tr>\n",
              "    <tr>\n",
              "      <th>1</th>\n",
              "      <td>2</td>\n",
              "      <td>Ahmadu Umaru Fintiri</td>\n",
              "      <td>Current Governor of Adamawa State</td>\n",
              "      <td>PDP</td>\n",
              "      <td>2019</td>\n",
              "      <td>NaN</td>\n",
              "    </tr>\n",
              "    <tr>\n",
              "      <th>2</th>\n",
              "      <td>3</td>\n",
              "      <td>Udom Gabriel Emmanuel</td>\n",
              "      <td>Current Governor of Akwa-Ibom State</td>\n",
              "      <td>PDP</td>\n",
              "      <td>2019</td>\n",
              "      <td>NaN</td>\n",
              "    </tr>\n",
              "  </tbody>\n",
              "</table>\n",
              "</div>"
            ],
            "text/plain": [
              "   S/N                   Name  ... Elected Posts\n",
              "0    1         Okezie Ikpeazu  ...    2019   NaN\n",
              "1    2   Ahmadu Umaru Fintiri  ...    2019   NaN\n",
              "2    3  Udom Gabriel Emmanuel  ...    2019   NaN\n",
              "\n",
              "[3 rows x 6 columns]"
            ]
          },
          "metadata": {
            "tags": []
          },
          "execution_count": 23
        }
      ]
    },
    {
      "cell_type": "code",
      "metadata": {
        "id": "1iuQt4nZf6HQ",
        "colab_type": "code",
        "colab": {
          "base_uri": "https://localhost:8080/",
          "height": 126
        },
        "outputId": "2dd751eb-bc7c-44da-d9b7-94c05908566d"
      },
      "source": [
        "#Removing NaN values\n",
        "METADATA = METADATA.fillna('')\n",
        "\n",
        "#Convert the post column string\n",
        "METADATA[\"Elected\"] = METADATA[\"Elected\"].astype(int).astype(str)\n",
        "\n",
        "#Joining the other columns into one \n",
        "METADATA[\"General\"] = METADATA[\"Position\"] + \" \" + METADATA[\"Political Party\"] + \" \" +  METADATA[\"Elected\"]+ \" \" +  METADATA[\"Posts\"]\n",
        "METADATA[\"General\"].head()"
      ],
      "execution_count": 24,
      "outputs": [
        {
          "output_type": "execute_result",
          "data": {
            "text/plain": [
              "0         Current Governor of Abia State PDP 2019 \n",
              "1      Current Governor of Adamawa State PDP 2019 \n",
              "2    Current Governor of Akwa-Ibom State PDP 2019 \n",
              "3     Current Governor of Anambra State APGA 2014 \n",
              "4          Deputy Governor of Abia State PDP 2019 \n",
              "Name: General, dtype: object"
            ]
          },
          "metadata": {
            "tags": []
          },
          "execution_count": 24
        }
      ]
    },
    {
      "cell_type": "code",
      "metadata": {
        "id": "B4FfAdszkCEl",
        "colab_type": "code",
        "colab": {
          "base_uri": "https://localhost:8080/",
          "height": 35
        },
        "outputId": "06fc5509-318d-4bc2-8995-c587adc4a5b4"
      },
      "source": [
        "#Importing Libraries\n",
        "from sklearn.feature_extraction.text import TfidfVectorizer\n",
        "\n",
        "#Define a TF-IDF Vectorizer object. Remove all english stopwords\n",
        "TFIDF = TfidfVectorizer(stop_words = 'english')\n",
        "\n",
        "#Construct the required TF-IDF matrix by fitting and transforming the data\n",
        "TFIDF_MATRIX = TFIDF.fit_transform(METADATA[\"General\"])\n",
        "\n",
        "#Let's see the output shape of the matrix\n",
        "TFIDF_MATRIX.shape"
      ],
      "execution_count": 28,
      "outputs": [
        {
          "output_type": "execute_result",
          "data": {
            "text/plain": [
              "(98, 76)"
            ]
          },
          "metadata": {
            "tags": []
          },
          "execution_count": 28
        }
      ]
    },
    {
      "cell_type": "code",
      "metadata": {
        "id": "LmTlDzEcsUkV",
        "colab_type": "code",
        "colab": {}
      },
      "source": [
        "#Importing liinear_kernel\n",
        "from sklearn.metrics.pairwise import linear_kernel\n",
        "\n",
        "#computing the cosine similarity matrix\n",
        "COSINE_SIM = linear_kernel(TFIDF_MATRIX, TFIDF_MATRIX)\n",
        "\n",
        "#Construct a reverse map of the indices and name\n",
        "indices = pd.Series(METADATA.index, index = METADATA['Name']).drop_duplicates()"
      ],
      "execution_count": 0,
      "outputs": []
    },
    {
      "cell_type": "code",
      "metadata": {
        "id": "72232g92s5ie",
        "colab_type": "code",
        "colab": {}
      },
      "source": [
        "\n",
        "def get_recommendations(name, COSINE_SIM = COSINE_SIM):\n",
        "  '''Function that takes in a politician's name as input and output similar politicians'''\n",
        "\n",
        "  #Get the index of the name\n",
        "  idx = indices[name]\n",
        "\n",
        "  #Get the pairwise similarity score of all names with that name\n",
        "  sim_scores = list(enumerate(COSINE_SIM[idx]))\n",
        "\n",
        "  #sort the names based on similarity scores\n",
        "  sim_scores = sorted(sim_scores, key = lambda x: x[1], reverse = True)\n",
        "\n",
        "  #Get the scores of the 10 most similar politicians\n",
        "  sim_scores = sim_scores[1:11]\n",
        "\n",
        "  #Get the names\n",
        "  names = [i[0] for i in sim_scores] \n",
        "\n",
        "  #Return the top 10 similar politicians\n",
        "  return METADATA['Name'].iloc[names]"
      ],
      "execution_count": 0,
      "outputs": []
    },
    {
      "cell_type": "code",
      "metadata": {
        "id": "hglDHlbVvpzq",
        "colab_type": "code",
        "colab": {
          "base_uri": "https://localhost:8080/",
          "height": 235
        },
        "outputId": "acd2f09f-fc9a-49c0-9571-89d9ef88abf4"
      },
      "source": [
        "PNAME = input(\"Search Politician's name: \")\n",
        "get_recommendations(PNAME)"
      ],
      "execution_count": 37,
      "outputs": [
        {
          "output_type": "stream",
          "text": [
            "Search Politician's name: Muhammadu Buhari\n"
          ],
          "name": "stdout"
        },
        {
          "output_type": "execute_result",
          "data": {
            "text/plain": [
              "84        Olusegun Obasanjo\n",
              "82        Goodluck Jonathan\n",
              "83      Umaru Musa Yar'Adua\n",
              "79         Akinwunmi Ambode\n",
              "46       Babajide Sanwo-Olu\n",
              "47     Kadri Obafemi Hamzat\n",
              "85        Femi Gbajabiamila\n",
              "14           BabaGana Umara\n",
              "28    Muhammad Inuwa Yahaya\n",
              "32          Badaru Abubakar\n",
              "Name: Name, dtype: object"
            ]
          },
          "metadata": {
            "tags": []
          },
          "execution_count": 37
        }
      ]
    }
  ]
}